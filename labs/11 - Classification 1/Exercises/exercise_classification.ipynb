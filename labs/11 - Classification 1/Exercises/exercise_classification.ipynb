{
  "cells": [
    {
      "cell_type": "markdown",
      "metadata": {
        "id": "view-in-github",
        "colab_type": "text"
      },
      "source": [
        "<a href=\"https://colab.research.google.com/github/NoMansUniverse/frips/blob/main/labs/11%20-%20Classification%201/Exercises/exercise_classification.ipynb\" target=\"_parent\"><img src=\"https://colab.research.google.com/assets/colab-badge.svg\" alt=\"Open In Colab\"/></a>"
      ]
    },
    {
      "cell_type": "markdown",
      "metadata": {
        "id": "uA-MJzRJ9Vz-"
      },
      "source": [
        "<h1 align=\"center\"> EXERCISES 9</h1>\n",
        "\n",
        "<div>\n",
        "<td>\n",
        "<img src=\"https://upload.wikimedia.org/wikipedia/commons/thumb/2/2b/Logo_Universit%C3%A9_de_Lausanne.svg/2000px-Logo_Universit%C3%A9_de_Lausanne.svg.png\" style=\"padding-right:10px;width:240px;float:left\"/></td>\n",
        "<h2 style=\"white-space: nowrap\">Business Intelligence and Analytics</h2></td>\n",
        "<hr style=\"clear:both\">\n",
        "<p style=\"font-size:0.85em; margin:2px; text-align:justify\">\n",
        "\n",
        "</div>"
      ]
    },
    {
      "cell_type": "markdown",
      "metadata": {
        "id": "R1BSf8GX2sQd"
      },
      "source": [
        "# Classification\n",
        "\n",
        "## Logistic Regression\n",
        "\n",
        "In this lab we will explore logistic regression which is a well known method for classification problems. We will work with a hearth disease data-set, and we will try to predict whether the patient has a heart disease or not.\n",
        "\n",
        "\n",
        "![Heart](https://img.webmd.com/dtmcms/live/webmd/consumer_assets/site_images/articles/health_tools/how_heart_disease_affects_your_body_slideshow/493ss_thinkstock_rf_heart_anatomy_illustration.jpg)\n"
      ]
    },
    {
      "cell_type": "code",
      "execution_count": 8,
      "metadata": {
        "colab": {
          "base_uri": "https://localhost:8080/"
        },
        "id": "2D9mQhcj2sQe",
        "outputId": "82ce331a-5cea-4e23-ac9c-a21c39939fdf"
      },
      "outputs": [
        {
          "output_type": "stream",
          "name": "stdout",
          "text": [
            "Initial Dataset:\n",
            "   product_id                                       product_name  \\\n",
            "0  B07JW9H4J1  Wayona Nylon Braided USB to Lightning Fast Cha...   \n",
            "1  B098NS6PVG  Ambrane Unbreakable 60W / 3A Fast Charging 1.5...   \n",
            "2  B096MSW6CT  Sounce Fast Phone Charging Cable & Data Sync U...   \n",
            "3  B08HDJ86NZ  boAt Deuce USB 300 2 in 1 Type-C & Micro USB S...   \n",
            "4  B08CF3B7N1  Portronics Konnect L 1.2M Fast Charging 3A 8 P...   \n",
            "\n",
            "                                            category discounted_price  \\\n",
            "0  Computers&Accessories|Accessories&Peripherals|...             ₹399   \n",
            "1  Computers&Accessories|Accessories&Peripherals|...             ₹199   \n",
            "2  Computers&Accessories|Accessories&Peripherals|...             ₹199   \n",
            "3  Computers&Accessories|Accessories&Peripherals|...             ₹329   \n",
            "4  Computers&Accessories|Accessories&Peripherals|...             ₹154   \n",
            "\n",
            "  actual_price discount_percentage rating rating_count  \\\n",
            "0       ₹1,099                 64%    4.2       24,269   \n",
            "1         ₹349                 43%    4.0       43,994   \n",
            "2       ₹1,899                 90%    3.9        7,928   \n",
            "3         ₹699                 53%    4.2       94,363   \n",
            "4         ₹399                 61%    4.2       16,905   \n",
            "\n",
            "                                       about_product  \\\n",
            "0  High Compatibility : Compatible With iPhone 12...   \n",
            "1  Compatible with all Type C enabled devices, be...   \n",
            "2  【 Fast Charger& Data Sync】-With built-in safet...   \n",
            "3  The boAt Deuce USB 300 2 in 1 cable is compati...   \n",
            "4  [CHARGE & SYNC FUNCTION]- This cable comes wit...   \n",
            "\n",
            "                                             user_id  \\\n",
            "0  AG3D6O4STAQKAY2UVGEUV46KN35Q,AHMY5CWJMMK5BJRBB...   \n",
            "1  AECPFYFQVRUWC3KGNLJIOREFP5LQ,AGYYVPDD7YG7FYNBX...   \n",
            "2  AGU3BBQ2V2DDAMOAKGFAWDDQ6QHA,AESFLDV2PT363T2AQ...   \n",
            "3  AEWAZDZZJLQUYVOVGBEUKSLXHQ5A,AG5HTSFRRE6NL3M5S...   \n",
            "4  AE3Q6KSUK5P75D5HFYHCRAOLODSA,AFUGIFH5ZAFXRDSZH...   \n",
            "\n",
            "                                           user_name  \\\n",
            "0  Manav,Adarsh gupta,Sundeep,S.Sayeed Ahmed,jasp...   \n",
            "1  ArdKn,Nirbhay kumar,Sagar Viswanathan,Asp,Plac...   \n",
            "2  Kunal,Himanshu,viswanath,sai niharka,saqib mal...   \n",
            "3  Omkar dhale,JD,HEMALATHA,Ajwadh a.,amar singh ...   \n",
            "4  rahuls6099,Swasat Borah,Ajay Wadke,Pranali,RVK...   \n",
            "\n",
            "                                           review_id  \\\n",
            "0  R3HXWT0LRP0NMF,R2AJM3LFTLZHFO,R6AQJGUP6P86,R1K...   \n",
            "1  RGIQEG07R9HS2,R1SMWZQ86XIN8U,R2J3Y1WL29GWDE,RY...   \n",
            "2  R3J3EQQ9TZI5ZJ,R3E7WBGK7ID0KV,RWU79XKQ6I1QF,R2...   \n",
            "3  R3EEUZKKK9J36I,R3HJVYCLYOY554,REDECAZ7AMPQC,R1...   \n",
            "4  R1BP4L2HH9TFUP,R16PVJEXKV6QZS,R2UPDB81N66T4P,R...   \n",
            "\n",
            "                                        review_title  \\\n",
            "0  Satisfied,Charging is really fast,Value for mo...   \n",
            "1  A Good Braided Cable for Your Type C Device,Go...   \n",
            "2  Good speed for earlier versions,Good Product,W...   \n",
            "3  Good product,Good one,Nice,Really nice product...   \n",
            "4  As good as original,Decent,Good one for second...   \n",
            "\n",
            "                                      review_content  \\\n",
            "0  Looks durable Charging is fine tooNo complains...   \n",
            "1  I ordered this cable to connect my phone to An...   \n",
            "2  Not quite durable and sturdy,https://m.media-a...   \n",
            "3  Good product,long wire,Charges good,Nice,I bou...   \n",
            "4  Bought this instead of original apple, does th...   \n",
            "\n",
            "                                            img_link  \\\n",
            "0  https://m.media-amazon.com/images/W/WEBP_40237...   \n",
            "1  https://m.media-amazon.com/images/W/WEBP_40237...   \n",
            "2  https://m.media-amazon.com/images/W/WEBP_40237...   \n",
            "3  https://m.media-amazon.com/images/I/41V5FtEWPk...   \n",
            "4  https://m.media-amazon.com/images/W/WEBP_40237...   \n",
            "\n",
            "                                        product_link  \n",
            "0  https://www.amazon.in/Wayona-Braided-WN3LG1-Sy...  \n",
            "1  https://www.amazon.in/Ambrane-Unbreakable-Char...  \n",
            "2  https://www.amazon.in/Sounce-iPhone-Charging-C...  \n",
            "3  https://www.amazon.in/Deuce-300-Resistant-Tang...  \n",
            "4  https://www.amazon.in/Portronics-Konnect-POR-1...  \n",
            "                          0                           1  \\\n",
            "0     Computers&Accessories     Accessories&Peripherals   \n",
            "1     Computers&Accessories     Accessories&Peripherals   \n",
            "2     Computers&Accessories     Accessories&Peripherals   \n",
            "3     Computers&Accessories     Accessories&Peripherals   \n",
            "4     Computers&Accessories     Accessories&Peripherals   \n",
            "...                     ...                         ...   \n",
            "1460           Home&Kitchen      Kitchen&HomeAppliances   \n",
            "1461           Home&Kitchen      Kitchen&HomeAppliances   \n",
            "1462           Home&Kitchen  Heating,Cooling&AirQuality   \n",
            "1463           Home&Kitchen  Heating,Cooling&AirQuality   \n",
            "1464           Home&Kitchen      Kitchen&HomeAppliances   \n",
            "\n",
            "                               2                         3          4     5  \\\n",
            "0             Cables&Accessories                    Cables  USBCables  None   \n",
            "1             Cables&Accessories                    Cables  USBCables  None   \n",
            "2             Cables&Accessories                    Cables  USBCables  None   \n",
            "3             Cables&Accessories                    Cables  USBCables  None   \n",
            "4             Cables&Accessories                    Cables  USBCables  None   \n",
            "...                          ...                       ...        ...   ...   \n",
            "1460  WaterPurifiers&Accessories  WaterPurifierAccessories       None  None   \n",
            "1461      SmallKitchenAppliances         Rice&PastaCookers       None  None   \n",
            "1462                 RoomHeaters            HeatConvectors       None  None   \n",
            "1463                        Fans               ExhaustFans       None  None   \n",
            "1464      SmallKitchenAppliances            SandwichMakers       None  None   \n",
            "\n",
            "         6  \n",
            "0     None  \n",
            "1     None  \n",
            "2     None  \n",
            "3     None  \n",
            "4     None  \n",
            "...    ...  \n",
            "1460  None  \n",
            "1461  None  \n",
            "1462  None  \n",
            "1463  None  \n",
            "1464  None  \n",
            "\n",
            "[1465 rows x 7 columns]\n",
            "\n",
            "Cleaned Dataset:\n",
            "   product_id                                       product_name  \\\n",
            "0  B07JW9H4J1  Wayona Nylon Braided USB to Lightning Fast Cha...   \n",
            "1  B098NS6PVG  Ambrane Unbreakable 60W / 3A Fast Charging 1.5...   \n",
            "2  B096MSW6CT  Sounce Fast Phone Charging Cable & Data Sync U...   \n",
            "3  B08HDJ86NZ  boAt Deuce USB 300 2 in 1 Type-C & Micro USB S...   \n",
            "4  B08CF3B7N1  Portronics Konnect L 1.2M Fast Charging 3A 8 P...   \n",
            "\n",
            "                                            category  discounted_price  \\\n",
            "0  Computers&Accessories|Accessories&Peripherals|...             399.0   \n",
            "1  Computers&Accessories|Accessories&Peripherals|...             199.0   \n",
            "2  Computers&Accessories|Accessories&Peripherals|...             199.0   \n",
            "3  Computers&Accessories|Accessories&Peripherals|...             329.0   \n",
            "4  Computers&Accessories|Accessories&Peripherals|...             154.0   \n",
            "\n",
            "   actual_price discount_percentage  rating  rating_count  \\\n",
            "0        1099.0                 64%     4.2       24269.0   \n",
            "1         349.0                 43%     4.0       43994.0   \n",
            "2        1899.0                 90%     3.9        7928.0   \n",
            "3         699.0                 53%     4.2       94363.0   \n",
            "4         399.0                 61%     4.2       16905.0   \n",
            "\n",
            "                                       about_product  \\\n",
            "0  High Compatibility : Compatible With iPhone 12...   \n",
            "1  Compatible with all Type C enabled devices, be...   \n",
            "2  【 Fast Charger& Data Sync】-With built-in safet...   \n",
            "3  The boAt Deuce USB 300 2 in 1 cable is compati...   \n",
            "4  [CHARGE & SYNC FUNCTION]- This cable comes wit...   \n",
            "\n",
            "                                        review_title  \\\n",
            "0  Satisfied,Charging is really fast,Value for mo...   \n",
            "1  A Good Braided Cable for Your Type C Device,Go...   \n",
            "2  Good speed for earlier versions,Good Product,W...   \n",
            "3  Good product,Good one,Nice,Really nice product...   \n",
            "4  As good as original,Decent,Good one for second...   \n",
            "\n",
            "                                      review_content         sub_category_0  \\\n",
            "0  Looks durable Charging is fine tooNo complains...  Computers&Accessories   \n",
            "1  I ordered this cable to connect my phone to An...  Computers&Accessories   \n",
            "2  Not quite durable and sturdy,https://m.media-a...  Computers&Accessories   \n",
            "3  Good product,long wire,Charges good,Nice,I bou...  Computers&Accessories   \n",
            "4  Bought this instead of original apple, does th...  Computers&Accessories   \n",
            "\n",
            "            sub_category_1      sub_category_2 sub_category_3 sub_category_4  \\\n",
            "0  Accessories&Peripherals  Cables&Accessories         Cables      USBCables   \n",
            "1  Accessories&Peripherals  Cables&Accessories         Cables      USBCables   \n",
            "2  Accessories&Peripherals  Cables&Accessories         Cables      USBCables   \n",
            "3  Accessories&Peripherals  Cables&Accessories         Cables      USBCables   \n",
            "4  Accessories&Peripherals  Cables&Accessories         Cables      USBCables   \n",
            "\n",
            "  sub_category_5 sub_category_6  \n",
            "0           None           None  \n",
            "1           None           None  \n",
            "2           None           None  \n",
            "3           None           None  \n",
            "4           None           None  \n",
            "Cleaned dataset saved as 'cleaned_amazon.csv'\n"
          ]
        },
        {
          "output_type": "stream",
          "name": "stderr",
          "text": [
            "<ipython-input-8-aadc82ecde2c>:22: FutureWarning: A value is trying to be set on a copy of a DataFrame or Series through chained assignment using an inplace method.\n",
            "The behavior will change in pandas 3.0. This inplace method will never work because the intermediate object on which we are setting values always behaves as a copy.\n",
            "\n",
            "For example, when doing 'df[col].method(value, inplace=True)', try using 'df.method({col: value}, inplace=True)' or df[col] = df[col].method(value) instead, to perform the operation inplace on the original object.\n",
            "\n",
            "\n",
            "  dataset_cleaned[col].fillna(dataset_cleaned[col].median(), inplace=True)\n"
          ]
        }
      ],
      "source": [
        "import pandas as pd\n",
        "import numpy as np\n",
        "\n",
        "\n",
        "\n",
        "dataset = pd.read_csv('/content/amazon.csv')\n",
        "\n",
        "print(\"Initial Dataset:\")\n",
        "print(dataset.head())\n",
        "\n",
        "columns_to_drop = ['img_link', 'product_link', 'user_id', 'review_id', 'user_name']\n",
        "dataset_cleaned = dataset.drop(columns=columns_to_drop, errors='ignore')\n",
        "\n",
        "dataset_cleaned['discounted_price'] = dataset_cleaned['discounted_price'].str.replace('₹', '').str.replace(',', '').astype(float, errors='ignore')\n",
        "dataset_cleaned['actual_price'] = dataset_cleaned['actual_price'].str.replace('₹', '').str.replace(',', '').astype(float, errors='ignore')\n",
        "dataset_cleaned['rating_count'] = dataset_cleaned['rating_count'].str.replace(',', '').astype(float, errors='ignore')\n",
        "\n",
        "dataset_cleaned['rating'] = pd.to_numeric(dataset_cleaned['rating'], errors='coerce')\n",
        "\n",
        "numerical_cols = ['discounted_price', 'actual_price', 'rating', 'rating_count']\n",
        "for col in numerical_cols:\n",
        "    dataset_cleaned[col].fillna(dataset_cleaned[col].median(), inplace=True)\n",
        "if 'category' in dataset_cleaned.columns:\n",
        "    category_split = dataset_cleaned['category'].str.split('|', expand=True)\n",
        "\n",
        "    print(category_split);\n",
        "\n",
        "    max_splits = category_split.shape[1]\n",
        "    for i in range(max_splits):\n",
        "        dataset_cleaned[f'sub_category_{i}'] = category_split[i]\n",
        "dataset_cleaned.drop_duplicates(inplace=True)\n",
        "\n",
        "print(\"\\nCleaned Dataset:\")\n",
        "print(dataset_cleaned.head())\n",
        "\n",
        "dataset_cleaned.to_csv('cleaned_amazon.csv', index=False)\n",
        "print(\"Cleaned dataset saved as 'cleaned_amazon.csv'\")\n"
      ]
    },
    {
      "cell_type": "code",
      "execution_count": null,
      "metadata": {
        "id": "Q1CKWYwc2sQh"
      },
      "outputs": [],
      "source": [
        "# set random seed\n",
        "np.random.seed = 72"
      ]
    },
    {
      "cell_type": "markdown",
      "metadata": {
        "id": "bTVsCvCv2sQl"
      },
      "source": [
        "### Load data\n",
        "\n",
        "We will start with the hear disease data-set. Here's a description of the attributes in the data-set:\n",
        "\n",
        "1. `age`\n",
        "2. `sex`\n",
        "3. `cp`: chest pain type (4 values)\n",
        "4. `trestbps`: resting blood pressure\n",
        "5. `chol`: serum cholestoral in mg/dl\n",
        "6. `fbs`: fasting blood sugar > 120 mg/dl\n",
        "7. `restecg`: resting electrocardiographic results (values 0,1,2)\n",
        "8. `thalach`: maximum heart rate achieved\n",
        "9. `exang`: exercise induced angina\n",
        "10. `target`: presence of heart disease (1), absence of heart disease(0)\n",
        "\n",
        "\n",
        "\n",
        "\n",
        "\n"
      ]
    },
    {
      "cell_type": "code",
      "execution_count": null,
      "metadata": {
        "id": "5trH0DXt2sQl"
      },
      "outputs": [],
      "source": [
        "#Load data\n",
        "# data-set: heart.csv\n",
        "url = \"https://media.githubusercontent.com/media/michalis0/Business-Intelligence-and-Analytics/master/data/heart.csv\"\n",
        "df = pd.read_csv(url)\n",
        "df.head()"
      ]
    },
    {
      "cell_type": "code",
      "execution_count": null,
      "metadata": {
        "id": "yFUEig7y2sQp"
      },
      "outputs": [],
      "source": [
        "# sklearn imports\n",
        "from sklearn.linear_model import LogisticRegressionCV\n",
        "from sklearn.linear_model import LogisticRegression\n",
        "from sklearn.preprocessing import StandardScaler\n",
        "from sklearn import datasets"
      ]
    },
    {
      "cell_type": "markdown",
      "metadata": {
        "id": "7BLOy4W32sQt"
      },
      "source": [
        "### Simple Logistic Regression\n",
        "\n",
        "Let's start with only 2 features to predict heart diseases: age and maximum heart rate achieved (`thalach`). Define your features and target variable."
      ]
    },
    {
      "cell_type": "code",
      "execution_count": null,
      "metadata": {
        "id": "ki6QRs6t2sQu"
      },
      "outputs": [],
      "source": [
        "X = 'Your Code Here'\n",
        "y = 'Your Code Here'"
      ]
    },
    {
      "cell_type": "markdown",
      "metadata": {
        "id": "IjPq4TjY4I-C"
      },
      "source": [
        "Split your data set into train and test subsets.\n",
        "\n",
        "Use ` test_size=0.3, random_state=72` as parameters"
      ]
    },
    {
      "cell_type": "code",
      "execution_count": null,
      "metadata": {
        "id": "iFO3lzpD2NKN"
      },
      "outputs": [],
      "source": [
        "from sklearn.model_selection import train_test_split\n",
        "\n",
        "# Your Code Here"
      ]
    },
    {
      "cell_type": "markdown",
      "metadata": {
        "id": "UNpdZRMv2sQ0"
      },
      "source": [
        "#### Standardizing\n",
        "\n",
        "When you do standardization (or any other modification) to the training data, you have to apply the same modifications to the test data as well. Otherwise your test accuracy would be non-sense.\n",
        "\n",
        "Here we apply the same standardisation to test data, which means that we normalize the test data with mean and standard deviation from the train data.\n",
        "\n",
        "Use *StandardScaler()* for normalization."
      ]
    },
    {
      "cell_type": "code",
      "execution_count": null,
      "metadata": {
        "id": "3h50T5Lh2sQ1"
      },
      "outputs": [],
      "source": [
        "scaler = StandardScaler()\n",
        "\n",
        "# Fit the scaler"
      ]
    },
    {
      "cell_type": "markdown",
      "metadata": {
        "id": "g7a6TZVV3ZZi"
      },
      "source": [
        "Apply the standardization to your train and test set."
      ]
    },
    {
      "cell_type": "code",
      "execution_count": null,
      "metadata": {
        "id": "xGjKow5Y2sQ4"
      },
      "outputs": [],
      "source": [
        "# Transform the train and test set"
      ]
    },
    {
      "cell_type": "markdown",
      "metadata": {
        "id": "Vw5rbTEV3hnH"
      },
      "source": [
        "Define your model. Try to use a logistic regression with cross validation using theses parameters : `solver='lbfgs', cv=10, max_iter=100`"
      ]
    },
    {
      "cell_type": "code",
      "execution_count": null,
      "metadata": {
        "id": "nExvGYiR2sQ7"
      },
      "outputs": [],
      "source": [
        "# logistic regression with 10 fold cross validation\n"
      ]
    },
    {
      "cell_type": "markdown",
      "metadata": {
        "id": "MyxTAXGs3nez"
      },
      "source": [
        "Fit your model now using the train set."
      ]
    },
    {
      "cell_type": "code",
      "execution_count": null,
      "metadata": {
        "id": "F9WckoiSD8kv"
      },
      "outputs": [],
      "source": [
        "# Fit your model on the train set"
      ]
    },
    {
      "cell_type": "markdown",
      "metadata": {
        "id": "WCu8nkWe3sXG"
      },
      "source": [
        "Compare your train and test accuracy for your model."
      ]
    },
    {
      "cell_type": "code",
      "execution_count": null,
      "metadata": {
        "id": "-YK9xRp6CIyP"
      },
      "outputs": [],
      "source": [
        "# train accuracy with CV\n"
      ]
    },
    {
      "cell_type": "code",
      "execution_count": null,
      "metadata": {
        "id": "4V2KZ7XTCNNK"
      },
      "outputs": [],
      "source": [
        "# test accuracy with CV\n"
      ]
    },
    {
      "cell_type": "markdown",
      "metadata": {
        "id": "pJGMIl1ynW5V"
      },
      "source": [
        "Have a look at the class distribution"
      ]
    },
    {
      "cell_type": "code",
      "execution_count": null,
      "metadata": {
        "id": "Wv5YrDBGnaB7"
      },
      "outputs": [],
      "source": [
        "#Create a bar chart to represent the distribution of the target\n"
      ]
    },
    {
      "cell_type": "markdown",
      "metadata": {
        "id": "WYS-bFxJrZNw"
      },
      "source": [
        "Compute the baserate.\n",
        "\n",
        "$$Base rate = \\frac{Most\\_frequent\\_class}{Total\\_observations}$$"
      ]
    },
    {
      "cell_type": "code",
      "execution_count": null,
      "metadata": {
        "id": "EFsMa1m2r7pj"
      },
      "outputs": [],
      "source": [
        "#Compute the base rate\n",
        "\n",
        "nbr_heart_disease = # Your code here\n",
        "print(f'There are {'Your Code Here'} observations with heart diseases')\n",
        "\n",
        "nbr_no_heart_disease = # Your code here\n",
        "print(f'There are {'Youe code HEre'} observations with no heart diseases')\n",
        "\n",
        "base_rate = # Your code here\n",
        "print(f'The Base rate is : {'your code here'}')"
      ]
    },
    {
      "cell_type": "markdown",
      "metadata": {
        "id": "cjgp2sfVrb8B"
      },
      "source": [
        "Use the confusion_matrix module to show the confusion matrix of the test set."
      ]
    },
    {
      "cell_type": "code",
      "execution_count": null,
      "metadata": {
        "id": "2DsK5wpLrfSt"
      },
      "outputs": [],
      "source": [
        "#Confusion matrix\n",
        "from sklearn.metrics import confusion_matrix\n",
        "\n",
        "#Create the confusion matrix of the test set"
      ]
    },
    {
      "cell_type": "markdown",
      "metadata": {
        "id": "fH8ULHCQmv0b"
      },
      "source": [
        "Plot the confusion matrix"
      ]
    },
    {
      "cell_type": "code",
      "execution_count": null,
      "metadata": {
        "id": "ZUMb12IdmxtV"
      },
      "outputs": [],
      "source": [
        "# Plot the confusion matrix using sns.heatmap"
      ]
    },
    {
      "cell_type": "markdown",
      "metadata": {
        "id": "P8k6n63n9V0I"
      },
      "source": [
        "### Predictions"
      ]
    },
    {
      "cell_type": "markdown",
      "metadata": {
        "id": "EOltSAhl9V0J"
      },
      "source": [
        "Try to predict the class and probability of correct classification for `patient 1` `Age = 40, Thalach = 180` and `patient 2` `Age = 70, Thalach = 100`\n",
        "\n",
        "**This part accounts for the first question of the quizz.**"
      ]
    },
    {
      "cell_type": "code",
      "execution_count": null,
      "metadata": {
        "id": "QfGgyJc-9V0J"
      },
      "outputs": [],
      "source": [
        "# Create a data frame with our two suspects\n",
        "features = # Your code here\n",
        "\n",
        "# Scale the values\n",
        "features = # Your code here\n",
        "\n",
        "# Create the predictions\n",
        "predictions_q1 = # Your code here\n",
        "print(f'The first patient has a prediction of {'Your Code Here'} and the second one {'Your code Here'}')\n",
        "\n",
        "#Create the probabilities of each prediction\n",
        "proba_q1 =  # Your code here\n",
        "\n",
        "print(f'The probabilities of the first patient are {'Your Code Here'} and {'Your Code Here'} for the second ')\n",
        "\n",
        "\n"
      ]
    },
    {
      "cell_type": "markdown",
      "metadata": {
        "id": "K1CT6zVb2sRM"
      },
      "source": [
        "### Decision boundary\n",
        "\n",
        "As we used only two features for classification, we can observe the linear decision boundary made by the logistic regression in a 2D plot. You can also observe the mis-classified training points in this plot. Let's plot the decision boundary for the model with cross validation.\n",
        "\n",
        "Use theses parameters for the Logistic Regression model `solver='lbfgs', cv=10, max_iter=100`"
      ]
    },
    {
      "cell_type": "code",
      "execution_count": null,
      "metadata": {
        "id": "uulq1FEg9V0J"
      },
      "outputs": [],
      "source": [
        "#Decision boundary\n",
        "import numpy as np\n",
        "import matplotlib.pyplot as plt\n",
        "\n",
        "# Create the model\n",
        "\n",
        "\n",
        "#Fit the model on X and y (use all the available data withhout spliting)\n",
        "\n",
        "\n",
        "\n",
        "plt.scatter('Your code here', 'Your code here', c='Your code Here', edgecolors='k', cmap=plt.cm.Paired)\n",
        "ax = plt.gca()\n",
        "x_vals = 'Your code here'\n",
        "y_vals = 'Your code here'\n",
        "plt.plot(x_vals, y_vals, '--', c=\"red\")\n",
        "\n",
        "plt.xlabel('Age')\n",
        "plt.ylabel('Maximum hearth rate')\n",
        "\n",
        "\n",
        "plt.title('Decision boundary for classification model with cross-validation using two features')\n",
        "\n",
        "plt.show()"
      ]
    },
    {
      "cell_type": "markdown",
      "metadata": {
        "id": "wuw5LN8Y9V0J"
      },
      "source": [
        "### Adding features"
      ]
    },
    {
      "cell_type": "markdown",
      "metadata": {
        "id": "QRpOrur22sRV"
      },
      "source": [
        "Now let's try more numerical features and see if the accuracy improuves.\n",
        "We will use now `\"age\", \"thalach\", \"trestbps\" and \"chol\"`.\n",
        "Define your features and your target variable."
      ]
    },
    {
      "cell_type": "code",
      "execution_count": null,
      "metadata": {
        "id": "uDnaUYF92sRV"
      },
      "outputs": [],
      "source": [
        "X = # Your Code here\n",
        "y = # Your Code here"
      ]
    },
    {
      "cell_type": "markdown",
      "metadata": {
        "id": "0q09jUP34hme"
      },
      "source": [
        "Split your data set into train and test subsets. ` test_size=0.3, random_state=72`"
      ]
    },
    {
      "cell_type": "code",
      "execution_count": null,
      "metadata": {
        "id": "1g55iCbL2sRY"
      },
      "outputs": [],
      "source": [
        "# Split the dataset"
      ]
    },
    {
      "cell_type": "markdown",
      "metadata": {
        "id": "CsuD0tPc4ugm"
      },
      "source": [
        "Standardize your data."
      ]
    },
    {
      "cell_type": "code",
      "execution_count": null,
      "metadata": {
        "id": "R9ScYZRs2sRd"
      },
      "outputs": [],
      "source": [
        "# Create the scaler\n",
        "scaler = StandardScaler()\n",
        "\n",
        "# Fit the scaler"
      ]
    },
    {
      "cell_type": "code",
      "execution_count": null,
      "metadata": {
        "id": "I9Y0TMkp2sRg"
      },
      "outputs": [],
      "source": [
        "#Apply normalization to the training and testing set\n"
      ]
    },
    {
      "cell_type": "markdown",
      "metadata": {
        "id": "QQOpg_A04zNw"
      },
      "source": [
        "Fit your model using the train data. Let's use the logistic regression with cross validation here."
      ]
    },
    {
      "cell_type": "code",
      "execution_count": null,
      "metadata": {
        "id": "8MMBMLJZ2sRk"
      },
      "outputs": [],
      "source": [
        "# Fit the regression model on the training data"
      ]
    },
    {
      "cell_type": "markdown",
      "metadata": {
        "id": "pEOw7KN8421R"
      },
      "source": [
        "Compare your train and test accurary."
      ]
    },
    {
      "cell_type": "code",
      "execution_count": null,
      "metadata": {
        "id": "nwPGNVyx2sRp"
      },
      "outputs": [],
      "source": [
        "# train accuracy\n"
      ]
    },
    {
      "cell_type": "code",
      "execution_count": null,
      "metadata": {
        "id": "w2cIMQD-2sRs"
      },
      "outputs": [],
      "source": [
        "# test accuracy\n"
      ]
    },
    {
      "cell_type": "markdown",
      "metadata": {
        "id": "ceS90RCBoqws"
      },
      "source": [
        "Finally, show the confusion matrix."
      ]
    },
    {
      "cell_type": "code",
      "execution_count": null,
      "metadata": {
        "id": "wn-EZaVmD0of"
      },
      "outputs": [],
      "source": [
        "#Confusion matrix\n",
        "from sklearn.metrics import confusion_matrix\n",
        "\n",
        "#Create the confusion matrix"
      ]
    },
    {
      "cell_type": "code",
      "execution_count": null,
      "metadata": {
        "id": "tCaK-vJ29V0R"
      },
      "outputs": [],
      "source": [
        "sns.heatmap(pd.DataFrame('Your Code Here'), annot=True, cmap='Blues', fmt='.4g')\n",
        "plt.xlabel('Predicted label')\n",
        "plt.ylabel('True labels')\n",
        "plt.title('Confusion Matrix');"
      ]
    },
    {
      "cell_type": "markdown",
      "metadata": {
        "id": "rFHNIZQn9V0R"
      },
      "source": [
        "**Question two: How did the train and test accuracy change when adding theses additionals features?**"
      ]
    },
    {
      "cell_type": "markdown",
      "metadata": {
        "id": "sd7zfEM89V0S"
      },
      "source": []
    }
  ],
  "metadata": {
    "colab": {
      "name": "Exercises_Classification_1.ipynb",
      "provenance": [],
      "include_colab_link": true
    },
    "kernelspec": {
      "display_name": "base",
      "language": "python",
      "name": "python3"
    },
    "language_info": {
      "codemirror_mode": {
        "name": "ipython",
        "version": 3
      },
      "file_extension": ".py",
      "mimetype": "text/x-python",
      "name": "python",
      "nbconvert_exporter": "python",
      "pygments_lexer": "ipython3",
      "version": "3.11.5"
    },
    "vscode": {
      "interpreter": {
        "hash": "b0cc462c96df3621bcc58e01fadcdf9264a069c5c4bbf07201077bb349d3c6bf"
      }
    }
  },
  "nbformat": 4,
  "nbformat_minor": 0
}